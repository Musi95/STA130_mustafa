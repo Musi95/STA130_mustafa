{
 "cells": [
  {
   "cell_type": "markdown",
   "id": "bc0becb4",
   "metadata": {},
   "source": [
    "# _Research Proposal - Mustafa Ali_\n",
    "\n",
    "- ## A clear statement of the specific research question you’ve formulated. \n",
    "\n",
    "##### Research Question:\n",
    "How do housing prices differ in specific neighborhoods of Toronto depending on the type and size of the house? What factors affect how affordable homes are in these areas the most?\n",
    "\n",
    "Dataset Description:\n",
    "This dataset has rows of listings with three pieces of information: \n",
    "The address (where the property is located), the price (the listing price), and any details (the number of bedrooms, bathrooms, and the type of property, like a condo or house). It gives us insight on Toronto's housing market and helps us explore how prices vary by neighborhood and property features.\n",
    "\n",
    "I’m interested in studying both the mean and median housing prices, focusing on neighborhoods and streets that have the highest prices. I also want to look at factors like the number of bedrooms to see if there are properties with the most bedrooms at the lowest prices. This kind of analysis could be really helpful for finding valuable and affordable properties.\n",
    "\n",
    "Specifically, I want to estimate the population parameter of the mean housing prices in Toronto. By calculating the mean, I can gain a clearer understanding of what people are typically paying for homes in different areas. This insight will help spot trends and differences in the housing market, giving potential buyers the information they need to find properties that provide the best value for their money. By looking into these averages, we can discover opportunities that might not be immediately obvious, helping people make smarter choices in their home search."
   ]
  },
  {
   "cell_type": "markdown",
   "id": "66d39483",
   "metadata": {},
   "source": [
    "- ## Describe the variables you plan to explore and how you plan on exploring them.\n",
    "\n",
    "\n",
    "I plan to explore several key variables related to housing prices in Toronto. \n",
    "\n",
    "Price is central to my analysis, as I want to see how it varies across neighborhoods and property types. I'll calculate summary statistics like the mean, median, and range to get a clearer picture. \n",
    "\n",
    "For visualizations, I’ll use box plots to show price distribution and histograms to reveal common price ranges. Next, I'll look at the neighborhoods, which will help categorize properties and highlight pricing differences. Bar charts will compare average prices across neighborhoods, while a heat map will visually display these variations. The number of bedrooms is another important variable, as it allows us to assess how size impacts price. I could use scatter plots to show the relationship between bedrooms and price, along with grouped box plots to compare price distributions for different bedroom counts. Finally, I could also explore property types to understand their influence on pricing."
   ]
  },
  {
   "cell_type": "markdown",
   "id": "2c85dc82",
   "metadata": {},
   "source": [
    "- ## Describe the analysis you plan to perform.\n",
    "\n",
    "For my analysis, I plan to use regression analysis to dig into how housing prices are influenced by factors like neighborhood, number of bedrooms, and property type. This approach will let me see how much each of these factors affects pricing and help identify which ones are the biggest drivers. I'll use multiple regression to understand how these variables work together to shape the overall price of a home.\n",
    "\n",
    "Before I get started, I’ll check some important assumptions, like whether there's a straight-line relationship between the predictors and the price, whether the observations are independent, and if the variability of the residuals is consistent across the different levels of the predictors. By focusing on regression, I hope to uncover valuable insights into what drives housing prices, spotting trends and connections that might not be obvious at first glance. "
   ]
  },
  {
   "cell_type": "markdown",
   "id": "391dc386",
   "metadata": {},
   "source": [
    "- ## Make a hypothesis for the possible results your analysis may produce and describe how these results would be relevant in answering your research question. If you have completed an analysis, you may include your results.\n",
    "\n",
    "\n",
    "I believe neighborhoods like Yorkville and Rosedale will have the highest average housing prices in Toronto since they're known for being upscale and having great amenities, I hope that my analysis backs my claim. I expect places like Scarborough and East York will offer more affordable options. When it comes to property types, I think single-family homes will generally be pricier than condos, but some luxury condos in top locations might also have high prices.\n",
    "\n",
    "These findings would be really helpful for answering my research question because they’ll show exactly which neighborhoods and types of properties are the most expensive and where you might find better deals. For example, if the data reveals that Yorkville's prices are much higher than those in Scarborough and I was proven right, it could guide buyers in focusing their search on Yorkville specifically to fit their budget."
   ]
  }
 ],
 "metadata": {
  "kernelspec": {
   "display_name": "Python 3 (ipykernel)",
   "language": "python",
   "name": "python3"
  },
  "language_info": {
   "codemirror_mode": {
    "name": "ipython",
    "version": 3
   },
   "file_extension": ".py",
   "mimetype": "text/x-python",
   "name": "python",
   "nbconvert_exporter": "python",
   "pygments_lexer": "ipython3",
   "version": "3.11.6"
  }
 },
 "nbformat": 4,
 "nbformat_minor": 5
}
